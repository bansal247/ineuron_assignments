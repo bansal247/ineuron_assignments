{
 "cells": [
  {
   "cell_type": "markdown",
   "id": "ff874907",
   "metadata": {},
   "source": "1. Add the current date to the text file today.txt as a string."
  },
  {
   "cell_type": "markdown",
   "id": "7b122435",
   "metadata": {},
   "source": "2. Read the text file today.txt into the string today_string"
  },
  {
   "cell_type": "markdown",
   "id": "2ec10bc7",
   "metadata": {},
   "source": "3. Parse the date from today_string."
  },
  {
   "cell_type": "markdown",
   "id": "70ee1b16",
   "metadata": {},
   "source": "4. List the files in your current directory"
  },
  {
   "cell_type": "markdown",
   "id": "1f4acb9f",
   "metadata": {},
   "source": "5. Create a list of all of the files in your parent directory (minimum five files should be available)."
  },
  {
   "cell_type": "markdown",
   "id": "a76b5a74",
   "metadata": {},
   "source": "6. Use multiprocessing to create three separate processes. Make each one wait a random number of seconds between one and five, print the current time, and then exit."
  },
  {
   "cell_type": "markdown",
   "id": "aa66db67",
   "metadata": {},
   "source": "7. Create a date object of your day of birth."
  },
  {
   "cell_type": "markdown",
   "id": "02e070d6",
   "metadata": {},
   "source": "8. What day of the week was your day of birth?"
  },
  {
   "cell_type": "markdown",
   "id": "df1c473a",
   "metadata": {},
   "source": "9. When will you be (or when were you) 10,000 days old?"
  },
  {
   "cell_type": "markdown",
   "id": "16aef39b",
   "metadata": {},
   "source": []
  },
  {
   "cell_type": "markdown",
   "id": "df228499",
   "metadata": {},
   "source": []
  },
  {
   "cell_type": "markdown",
   "id": "6f2f7d6f",
   "metadata": {},
   "source": []
  },
  {
   "cell_type": "markdown",
   "id": "eed59c2b",
   "metadata": {},
   "source": []
  },
  {
   "cell_type": "markdown",
   "id": "38e01c13",
   "metadata": {},
   "source": []
  },
  {
   "cell_type": "markdown",
   "id": "3c9c81fa",
   "metadata": {},
   "source": []
  },
  {
   "cell_type": "markdown",
   "id": "70aed12b",
   "metadata": {},
   "source": []
  },
  {
   "cell_type": "markdown",
   "id": "d44f417f",
   "metadata": {},
   "source": []
  },
  {
   "cell_type": "markdown",
   "id": "ae7c9cc5",
   "metadata": {},
   "source": []
  },
  {
   "cell_type": "markdown",
   "id": "e03d544f",
   "metadata": {},
   "source": []
  },
  {
   "cell_type": "markdown",
   "id": "4dac33cb",
   "metadata": {},
   "source": []
  },
  {
   "cell_type": "markdown",
   "id": "58b0e892",
   "metadata": {},
   "source": []
  },
  {
   "cell_type": "markdown",
   "id": "65b25ea1",
   "metadata": {},
   "source": []
  },
  {
   "cell_type": "markdown",
   "id": "c8ddbf3d",
   "metadata": {},
   "source": []
  },
  {
   "cell_type": "markdown",
   "id": "38127c4d",
   "metadata": {},
   "source": []
  },
  {
   "cell_type": "markdown",
   "id": "bdaf526e",
   "metadata": {},
   "source": []
  },
  {
   "cell_type": "markdown",
   "id": "2176414d",
   "metadata": {},
   "source": []
  },
  {
   "cell_type": "markdown",
   "id": "f4626ed9",
   "metadata": {},
   "source": []
  },
  {
   "cell_type": "markdown",
   "id": "8d7c9c46",
   "metadata": {},
   "source": []
  },
  {
   "cell_type": "markdown",
   "id": "b26244e8",
   "metadata": {},
   "source": []
  },
  {
   "cell_type": "markdown",
   "id": "d966d2ea",
   "metadata": {},
   "source": []
  },
  {
   "cell_type": "markdown",
   "id": "921d745d",
   "metadata": {},
   "source": []
  },
  {
   "cell_type": "markdown",
   "id": "82ae2466",
   "metadata": {},
   "source": []
  }
 ],
 "metadata": {
  "kernelspec": {
   "display_name": "Python 3 (ipykernel)",
   "language": "python",
   "name": "python3"
  },
  "language_info": {
   "codemirror_mode": {
    "name": "ipython",
    "version": 3
   },
   "file_extension": ".py",
   "mimetype": "text/x-python",
   "name": "python",
   "nbconvert_exporter": "python",
   "pygments_lexer": "ipython3",
   "version": "3.9.7"
  }
 },
 "nbformat": 4,
 "nbformat_minor": 5
}