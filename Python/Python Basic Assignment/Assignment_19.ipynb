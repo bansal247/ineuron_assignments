{
 "cells": [
  {
   "cell_type": "markdown",
   "id": "ff874907",
   "metadata": {},
   "source": "1. Make a class called Thing with no contents and print it. Then, create an object called example from this class and also print it. Are the printed values the same or different?"
  },
  {
   "cell_type": "markdown",
   "id": "7b122435",
   "metadata": {},
   "source": "2. Create a new class called Thing2 and add the value 'abc' to the letters class attribute. Letters should be printed."
  },
  {
   "cell_type": "markdown",
   "id": "2ec10bc7",
   "metadata": {},
   "source": "3. Make yet another class called, of course, Thing3. This time, assign the value 'xyz' to an instance (object) attribute called letters. Print letters. Do you need to make an object from the class to do this?"
  },
  {
   "cell_type": "markdown",
   "id": "70ee1b16",
   "metadata": {},
   "source": "4. Create an Element class with the instance attributes name, symbol, and number. Create a class object with the values 'Hydrogen,' 'H,' and 1."
  },
  {
   "cell_type": "markdown",
   "id": "1f4acb9f",
   "metadata": {},
   "source": "5. Make a dictionary with these keys and values: 'name': 'Hydrogen', 'symbol': 'H', 'number': 1. Then, create an object called hydrogen from class Element using this dictionary."
  },
  {
   "cell_type": "markdown",
   "id": "a76b5a74",
   "metadata": {},
   "source": "6. For the Element class, define a method called dump() that prints the values of the object\u2019s attributes (name, symbol, and number). Create the hydrogen object from this new definition and use dump() to print its attributes."
  },
  {
   "cell_type": "markdown",
   "id": "aa66db67",
   "metadata": {},
   "source": "7. Call print(hydrogen). In the definition of Element, change the name of method dump to __str__, create a new hydrogen object, and call print(hydrogen) again."
  },
  {
   "cell_type": "markdown",
   "id": "02e070d6",
   "metadata": {},
   "source": "8. Modify Element to make the attributes name, symbol, and number private. Define a getter property for each to return its value."
  },
  {
   "cell_type": "markdown",
   "id": "df1c473a",
   "metadata": {},
   "source": "9. Define three classes: Bear, Rabbit, and Octothorpe. For each, define only one method: eats(). This should return 'berries' (Bear), 'clover' (Rabbit), or 'campers' (Octothorpe). Create one object from each and print what it eats."
  },
  {
   "cell_type": "markdown",
   "id": "16aef39b",
   "metadata": {},
   "source": "10. Define these classes: Laser, Claw, and SmartPhone. Each has only one method: does(). This returns 'disintegrate' (Laser), 'crush' (Claw), or 'ring' (SmartPhone). Then, define the class Robot that has one instance (object) of each of these. Define a does() method for the Robot that prints what its component objects do."
  },
  {
   "cell_type": "markdown",
   "id": "df228499",
   "metadata": {},
   "source": []
  },
  {
   "cell_type": "markdown",
   "id": "6f2f7d6f",
   "metadata": {},
   "source": []
  },
  {
   "cell_type": "markdown",
   "id": "eed59c2b",
   "metadata": {},
   "source": []
  },
  {
   "cell_type": "markdown",
   "id": "38e01c13",
   "metadata": {},
   "source": []
  },
  {
   "cell_type": "markdown",
   "id": "3c9c81fa",
   "metadata": {},
   "source": []
  },
  {
   "cell_type": "markdown",
   "id": "70aed12b",
   "metadata": {},
   "source": []
  },
  {
   "cell_type": "markdown",
   "id": "d44f417f",
   "metadata": {},
   "source": []
  },
  {
   "cell_type": "markdown",
   "id": "ae7c9cc5",
   "metadata": {},
   "source": []
  },
  {
   "cell_type": "markdown",
   "id": "e03d544f",
   "metadata": {},
   "source": []
  },
  {
   "cell_type": "markdown",
   "id": "4dac33cb",
   "metadata": {},
   "source": []
  },
  {
   "cell_type": "markdown",
   "id": "58b0e892",
   "metadata": {},
   "source": []
  },
  {
   "cell_type": "markdown",
   "id": "65b25ea1",
   "metadata": {},
   "source": []
  },
  {
   "cell_type": "markdown",
   "id": "c8ddbf3d",
   "metadata": {},
   "source": []
  },
  {
   "cell_type": "markdown",
   "id": "38127c4d",
   "metadata": {},
   "source": []
  },
  {
   "cell_type": "markdown",
   "id": "bdaf526e",
   "metadata": {},
   "source": []
  },
  {
   "cell_type": "markdown",
   "id": "2176414d",
   "metadata": {},
   "source": []
  },
  {
   "cell_type": "markdown",
   "id": "f4626ed9",
   "metadata": {},
   "source": []
  },
  {
   "cell_type": "markdown",
   "id": "8d7c9c46",
   "metadata": {},
   "source": []
  },
  {
   "cell_type": "markdown",
   "id": "b26244e8",
   "metadata": {},
   "source": []
  },
  {
   "cell_type": "markdown",
   "id": "d966d2ea",
   "metadata": {},
   "source": []
  },
  {
   "cell_type": "markdown",
   "id": "921d745d",
   "metadata": {},
   "source": []
  },
  {
   "cell_type": "markdown",
   "id": "82ae2466",
   "metadata": {},
   "source": []
  }
 ],
 "metadata": {
  "kernelspec": {
   "display_name": "Python 3 (ipykernel)",
   "language": "python",
   "name": "python3"
  },
  "language_info": {
   "codemirror_mode": {
    "name": "ipython",
    "version": 3
   },
   "file_extension": ".py",
   "mimetype": "text/x-python",
   "name": "python",
   "nbconvert_exporter": "python",
   "pygments_lexer": "ipython3",
   "version": "3.9.7"
  }
 },
 "nbformat": 4,
 "nbformat_minor": 5
}