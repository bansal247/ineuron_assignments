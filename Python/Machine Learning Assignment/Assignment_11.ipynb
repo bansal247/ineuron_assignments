{
 "cells": [
  {
   "cell_type": "markdown",
   "id": "ff874907",
   "metadata": {},
   "source": "Given X be a discrete random variable with the following PMF"
  },
  {
   "cell_type": "markdown",
   "id": "7b122435",
   "metadata": {},
   "source": "                   1. Find the range RX of the random variable X."
  },
  {
   "cell_type": "markdown",
   "id": "2ec10bc7",
   "metadata": {},
   "source": "                   2. Find P(X \u2264 0.5)"
  },
  {
   "cell_type": "markdown",
   "id": "70ee1b16",
   "metadata": {},
   "source": "                   3. Find P(0.25<X<0.75)"
  },
  {
   "cell_type": "markdown",
   "id": "1f4acb9f",
   "metadata": {},
   "source": "              4.\u00a0P(X = 0.2|X<0.6)"
  },
  {
   "cell_type": "markdown",
   "id": "a76b5a74",
   "metadata": {},
   "source": "2. Two equal and fair dice are rolled, and we observed two numbers X and Y."
  },
  {
   "cell_type": "markdown",
   "id": "aa66db67",
   "metadata": {},
   "source": "         1. Find RX, RY, and the PMFs of X and Y."
  },
  {
   "cell_type": "markdown",
   "id": "02e070d6",
   "metadata": {},
   "source": "         2. Find P(X = 2,Y = 6)."
  },
  {
   "cell_type": "markdown",
   "id": "df1c473a",
   "metadata": {},
   "source": "         3. Find P(X>3|Y = 2)."
  },
  {
   "cell_type": "markdown",
   "id": "16aef39b",
   "metadata": {},
   "source": "         4. If Z = X + Y. Find the range and PMF of Z."
  },
  {
   "cell_type": "markdown",
   "id": "df228499",
   "metadata": {},
   "source": "         5. Find P(X = 4|Z = 8)."
  },
  {
   "cell_type": "markdown",
   "id": "6f2f7d6f",
   "metadata": {},
   "source": "3. In an exam, there were 20 multiple-choice questions. Each question had 44 possible options. A student knew the answer to 10 questions, but the other 10 questions were unknown to him, and he chose answers randomly. If the student X's score is equal to the total number of correct answers, then find out the PMF of X. What is P(X>15)?"
  },
  {
   "cell_type": "markdown",
   "id": "eed59c2b",
   "metadata": {},
   "source": "4. The number of students arriving at a college between a time interval is a Poisson random variable. On average, 10 students arrive per hour. Let Y be the number of students arriving from 10 am to 11:30 am. What is P(10<Y\u226415)?"
  },
  {
   "cell_type": "markdown",
   "id": "38e01c13",
   "metadata": {},
   "source": "5.Two independent random variables, X and Y,are given such that X~Poisson(\u03b1) and Y~Poisson(\u03b2). State a new random variable as Z = X + Y. Find out the PMF of Z."
  },
  {
   "cell_type": "markdown",
   "id": "3c9c81fa",
   "metadata": {},
   "source": "6. There is a discrete random variable X with the pmf.\u00a0"
  },
  {
   "cell_type": "markdown",
   "id": "70aed12b",
   "metadata": {},
   "source": "If we define a new random variable Y = (X + 1)2 then"
  },
  {
   "cell_type": "markdown",
   "id": "d44f417f",
   "metadata": {},
   "source": "                       1.\tFind the range of Y."
  },
  {
   "cell_type": "markdown",
   "id": "ae7c9cc5",
   "metadata": {},
   "source": "                      2.\tFind the pmf of Y."
  },
  {
   "cell_type": "markdown",
   "id": "e03d544f",
   "metadata": {},
   "source": "2.Assuming X is a continuous random variable with PDF"
  },
  {
   "cell_type": "markdown",
   "id": "4dac33cb",
   "metadata": {},
   "source": "Find EX and Var(X)."
  },
  {
   "cell_type": "markdown",
   "id": "58b0e892",
   "metadata": {},
   "source": "Find\u00a0P(X\u00a0\u2265\u00a0)."
  },
  {
   "cell_type": "markdown",
   "id": "65b25ea1",
   "metadata": {},
   "source": "If\u00a0X\u00a0is a continuous random variable with pdf\u00a0"
  },
  {
   "cell_type": "markdown",
   "id": "c8ddbf3d",
   "metadata": {},
   "source": "If\u00a0X~Uniform\u00a0and\u00a0Y\u00a0= sin(X), then find\u00a0fY(y)."
  },
  {
   "cell_type": "markdown",
   "id": "38127c4d",
   "metadata": {},
   "source": "If X is a random variable with CDF\u00a0"
  },
  {
   "cell_type": "markdown",
   "id": "bdaf526e",
   "metadata": {},
   "source": "What kind of random variable is\u00a0X: discrete, continuous, or mixed?"
  },
  {
   "cell_type": "markdown",
   "id": "2176414d",
   "metadata": {},
   "source": "Find the PDF of\u00a0X, fX(x)."
  },
  {
   "cell_type": "markdown",
   "id": "f4626ed9",
   "metadata": {},
   "source": "Find E(eX)."
  },
  {
   "cell_type": "markdown",
   "id": "8d7c9c46",
   "metadata": {},
   "source": "Find P(X\u00a0= 0|X\u22640.5)."
  },
  {
   "cell_type": "markdown",
   "id": "b26244e8",
   "metadata": {},
   "source": "There are two random variables\u00a0X\u00a0and\u00a0Y\u00a0with joint PMF given in Table below"
  },
  {
   "cell_type": "markdown",
   "id": "d966d2ea",
   "metadata": {},
   "source": "Find\u00a0P(X\u22642,\u00a0Y\u22644)."
  },
  {
   "cell_type": "markdown",
   "id": "921d745d",
   "metadata": {},
   "source": "Find the marginal PMFs of\u00a0X\u00a0and\u00a0Y."
  },
  {
   "cell_type": "markdown",
   "id": "82ae2466",
   "metadata": {},
   "source": "Find\u00a0P(Y\u00a0= 2|X\u00a0= 1)."
  }
 ],
 "metadata": {
  "kernelspec": {
   "display_name": "Python 3 (ipykernel)",
   "language": "python",
   "name": "python3"
  },
  "language_info": {
   "codemirror_mode": {
    "name": "ipython",
    "version": 3
   },
   "file_extension": ".py",
   "mimetype": "text/x-python",
   "name": "python",
   "nbconvert_exporter": "python",
   "pygments_lexer": "ipython3",
   "version": "3.9.7"
  }
 },
 "nbformat": 4,
 "nbformat_minor": 5
}