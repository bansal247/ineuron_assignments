{
 "cells": [
  {
   "cell_type": "markdown",
   "id": "ff874907",
   "metadata": {},
   "source": "1. A robot has been given a list of movement instructions. Each instruction is either left, right, up or down, followed by a distance to move. The robot starts at [0, 0]. You want to calculate where the robot will end up and return its final position as a list."
  },
  {
   "cell_type": "markdown",
   "id": "7b122435",
   "metadata": {},
   "source": "To illustrate, if the robot is given the following instructions:"
  },
  {
   "cell_type": "markdown",
   "id": "2ec10bc7",
   "metadata": {},
   "source": "[\"right 10\", \"up 50\", \"left 30\", \"down 10\"]"
  },
  {
   "cell_type": "markdown",
   "id": "70ee1b16",
   "metadata": {},
   "source": "It will end up 20 left and 40 up from where it started, so we return [-20, 40]."
  },
  {
   "cell_type": "markdown",
   "id": "1f4acb9f",
   "metadata": {},
   "source": "Examples"
  },
  {
   "cell_type": "markdown",
   "id": "a76b5a74",
   "metadata": {},
   "source": "track_robot([\"right 10\", \"up 50\", \"left 30\", \"down 10\"]) \u279e [-20, 40]"
  },
  {
   "cell_type": "markdown",
   "id": "aa66db67",
   "metadata": {},
   "source": "track_robot([]) \u279e [0, 0]"
  },
  {
   "cell_type": "markdown",
   "id": "02e070d6",
   "metadata": {},
   "source": "// If there are no instructions, the robot doesn't move."
  },
  {
   "cell_type": "markdown",
   "id": "df1c473a",
   "metadata": {},
   "source": "track_robot([\"right 100\", \"right 100\", \"up 500\", \"up 10000\"]) \u279e [200, 10500]"
  },
  {
   "cell_type": "markdown",
   "id": "16aef39b",
   "metadata": {},
   "source": "2. Write a function that will return the longest word in a sentence. In cases where more than one word is found, return the first one."
  },
  {
   "cell_type": "markdown",
   "id": "df228499",
   "metadata": {},
   "source": "Examples"
  },
  {
   "cell_type": "markdown",
   "id": "6f2f7d6f",
   "metadata": {},
   "source": "find_longest(\"A thing of beauty is a joy forever.\") \u279e \"forever\""
  },
  {
   "cell_type": "markdown",
   "id": "eed59c2b",
   "metadata": {},
   "source": "find_longest(\"Forgetfulness is by all means powerless!\") \u279e \"forgetfulness\""
  },
  {
   "cell_type": "markdown",
   "id": "38e01c13",
   "metadata": {},
   "source": "find_longest(\"\\\"Strengths\\\" is the longest and most commonly used word that contains only a single vowel.\") \u279e \"strengths\""
  },
  {
   "cell_type": "markdown",
   "id": "3c9c81fa",
   "metadata": {},
   "source": "3. Create a function to check if a candidate is qualified in an imaginary coding interview of an imaginary tech startup."
  },
  {
   "cell_type": "markdown",
   "id": "70aed12b",
   "metadata": {},
   "source": "The criteria for a candidate to be qualified in the coding interview is:"
  },
  {
   "cell_type": "markdown",
   "id": "d44f417f",
   "metadata": {},
   "source": "   1. The candidate should have complete all the questions."
  },
  {
   "cell_type": "markdown",
   "id": "ae7c9cc5",
   "metadata": {},
   "source": "   2. The maximum time given to complete the interview is 120 minutes."
  },
  {
   "cell_type": "markdown",
   "id": "e03d544f",
   "metadata": {},
   "source": "   3. The maximum time given for very easy questions is 5 minutes each."
  },
  {
   "cell_type": "markdown",
   "id": "4dac33cb",
   "metadata": {},
   "source": "   4. The maximum time given for easy questions is 10 minutes each."
  },
  {
   "cell_type": "markdown",
   "id": "58b0e892",
   "metadata": {},
   "source": "   5. The maximum time given for medium questions is 15 minutes each."
  },
  {
   "cell_type": "markdown",
   "id": "65b25ea1",
   "metadata": {},
   "source": "   6. The maximum time given for hard questions is 20 minutes each."
  },
  {
   "cell_type": "markdown",
   "id": "c8ddbf3d",
   "metadata": {},
   "source": "If all the above conditions are satisfied, return \"qualified\", else return \"disqualified\"."
  },
  {
   "cell_type": "markdown",
   "id": "38127c4d",
   "metadata": {},
   "source": "You will be given a list of time taken by a candidate to solve a particular question and the total time taken by the candidate to complete the interview."
  },
  {
   "cell_type": "markdown",
   "id": "bdaf526e",
   "metadata": {},
   "source": "Given a list , in a true condition will always be in the format [very easy, very easy, easy, easy, medium, medium, hard, hard]."
  },
  {
   "cell_type": "markdown",
   "id": "2176414d",
   "metadata": {},
   "source": "The maximum time to complete the interview includes a buffer time of 20 minutes."
  },
  {
   "cell_type": "markdown",
   "id": "f4626ed9",
   "metadata": {},
   "source": "Examples"
  },
  {
   "cell_type": "markdown",
   "id": "8d7c9c46",
   "metadata": {},
   "source": "interview([5, 5, 10, 10, 15, 15, 20, 20], 120) \u279e \"qualified\""
  },
  {
   "cell_type": "markdown",
   "id": "b26244e8",
   "metadata": {},
   "source": "interview([2, 3, 8, 6, 5, 12, 10, 18], 64) \u279e  \"qualified\""
  },
  {
   "cell_type": "markdown",
   "id": "d966d2ea",
   "metadata": {},
   "source": "interview([5, 5, 10, 10, 25, 15, 20, 20], 120) \u279e \"disqualified\""
  },
  {
   "cell_type": "markdown",
   "id": "921d745d",
   "metadata": {},
   "source": "# Exceeded the time limit for a medium question."
  },
  {
   "cell_type": "markdown",
   "id": "82ae2466",
   "metadata": {},
   "source": "interview([5, 5, 10, 10, 15, 15, 20], 120) \u279e \"disqualified\""
  }
 ],
 "metadata": {
  "kernelspec": {
   "display_name": "Python 3 (ipykernel)",
   "language": "python",
   "name": "python3"
  },
  "language_info": {
   "codemirror_mode": {
    "name": "ipython",
    "version": 3
   },
   "file_extension": ".py",
   "mimetype": "text/x-python",
   "name": "python",
   "nbconvert_exporter": "python",
   "pygments_lexer": "ipython3",
   "version": "3.9.7"
  }
 },
 "nbformat": 4,
 "nbformat_minor": 5
}