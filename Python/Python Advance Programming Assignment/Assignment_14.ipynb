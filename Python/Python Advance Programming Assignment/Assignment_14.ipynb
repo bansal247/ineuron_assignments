{
 "cells": [
  {
   "cell_type": "markdown",
   "id": "ff874907",
   "metadata": {},
   "source": "1. Given a list of numbers, create a function that removes 25% from every number in the list except the smallest number, and adds the total amount removed to the smallest number."
  },
  {
   "cell_type": "markdown",
   "id": "7b122435",
   "metadata": {},
   "source": "Examples"
  },
  {
   "cell_type": "markdown",
   "id": "2ec10bc7",
   "metadata": {},
   "source": "show_the_love([4, 1, 4]) \u279e [3, 3, 3]"
  },
  {
   "cell_type": "markdown",
   "id": "70ee1b16",
   "metadata": {},
   "source": "show_the_love([16, 10, 8]) \u279e [12, 7.5, 14.5]"
  },
  {
   "cell_type": "markdown",
   "id": "1f4acb9f",
   "metadata": {},
   "source": "show_the_love([2, 100]) \u279e [27, 75]"
  },
  {
   "cell_type": "markdown",
   "id": "a76b5a74",
   "metadata": {},
   "source": "2. Create a function that takes in two words as input and returns a list of three elements, in the following order:"
  },
  {
   "cell_type": "markdown",
   "id": "aa66db67",
   "metadata": {},
   "source": "   1.Shared letters between two words."
  },
  {
   "cell_type": "markdown",
   "id": "02e070d6",
   "metadata": {},
   "source": "   2.Letters unique to word 1."
  },
  {
   "cell_type": "markdown",
   "id": "df1c473a",
   "metadata": {},
   "source": "   3.Letters unique to word 2."
  },
  {
   "cell_type": "markdown",
   "id": "16aef39b",
   "metadata": {},
   "source": "Each element should have unique letters, and have each letter be alphabetically sorted."
  },
  {
   "cell_type": "markdown",
   "id": "df228499",
   "metadata": {},
   "source": "Examples"
  },
  {
   "cell_type": "markdown",
   "id": "6f2f7d6f",
   "metadata": {},
   "source": "letters(\"sharp\", \"soap\") \u279e [\"aps\", \"hr\", \"o\"]"
  },
  {
   "cell_type": "markdown",
   "id": "eed59c2b",
   "metadata": {},
   "source": "letters(\"board\", \"bored\") \u279e [\"bdor\", \"a\", \"e\"]"
  },
  {
   "cell_type": "markdown",
   "id": "38e01c13",
   "metadata": {},
   "source": "letters(\"happiness\", \"envelope\") \u279e [\"enp\", \"ahis\", \"lov\"]"
  },
  {
   "cell_type": "markdown",
   "id": "3c9c81fa",
   "metadata": {},
   "source": "letters(\"kerfuffle\", \"fluffy\") \u279e [\"flu\", \"ekr\", \"y\"]"
  },
  {
   "cell_type": "markdown",
   "id": "70aed12b",
   "metadata": {},
   "source": "# Even with multiple matching letters (e.g. 3 f's), there should "
  },
  {
   "cell_type": "markdown",
   "id": "d44f417f",
   "metadata": {},
   "source": "# only exist a single \"f\" in your first element."
  },
  {
   "cell_type": "markdown",
   "id": "ae7c9cc5",
   "metadata": {},
   "source": "letters(\"match\", \"ham\") \u279e [\"ahm\", \"ct\", \"\"]"
  },
  {
   "cell_type": "markdown",
   "id": "e03d544f",
   "metadata": {},
   "source": "# \"ham\" does not contain any letters that are not found already "
  },
  {
   "cell_type": "markdown",
   "id": "4dac33cb",
   "metadata": {},
   "source": "# in \"match\"."
  },
  {
   "cell_type": "markdown",
   "id": "58b0e892",
   "metadata": {},
   "source": "3. Write a function that pairs the first number in an array with the last, the second number with the second to last, etc."
  },
  {
   "cell_type": "markdown",
   "id": "65b25ea1",
   "metadata": {},
   "source": "Examples"
  },
  {
   "cell_type": "markdown",
   "id": "c8ddbf3d",
   "metadata": {},
   "source": "pairs([1, 2, 3, 4, 5, 6, 7]) \u279e [[1, 7], [2, 6], [3, 5], [4, 4]]"
  },
  {
   "cell_type": "markdown",
   "id": "38127c4d",
   "metadata": {},
   "source": "pairs([1, 2, 3, 4, 5, 6]) \u279e [[1, 6], [2, 5], [3, 4]]"
  },
  {
   "cell_type": "markdown",
   "id": "bdaf526e",
   "metadata": {},
   "source": "pairs([5, 9, 8, 1, 2]) \u279e [[5, 2], [9, 1], [8, 8]]"
  },
  {
   "cell_type": "markdown",
   "id": "2176414d",
   "metadata": {},
   "source": "pairs([]) \u279e []"
  },
  {
   "cell_type": "markdown",
   "id": "f4626ed9",
   "metadata": {},
   "source": "4. Write a function that adds two numbers. The catch, however, is that the numbers will be strings."
  },
  {
   "cell_type": "markdown",
   "id": "8d7c9c46",
   "metadata": {},
   "source": "Examples"
  },
  {
   "cell_type": "markdown",
   "id": "b26244e8",
   "metadata": {},
   "source": "add_str_nums(\"4\", \"5\") \u279e \"9\""
  },
  {
   "cell_type": "markdown",
   "id": "d966d2ea",
   "metadata": {},
   "source": "add_str_nums(\"abcdefg\", \"3\") \u279e \"-1\""
  },
  {
   "cell_type": "markdown",
   "id": "921d745d",
   "metadata": {},
   "source": "add_str_nums(\"1\", \"\") \u279e \"1\""
  },
  {
   "cell_type": "markdown",
   "id": "82ae2466",
   "metadata": {},
   "source": "add_str_nums(\"1874682736267235927359283579235789257\", \"32652983572985729\") \u279e \"1874682736267235927391936562808774986\""
  }
 ],
 "metadata": {
  "kernelspec": {
   "display_name": "Python 3 (ipykernel)",
   "language": "python",
   "name": "python3"
  },
  "language_info": {
   "codemirror_mode": {
    "name": "ipython",
    "version": 3
   },
   "file_extension": ".py",
   "mimetype": "text/x-python",
   "name": "python",
   "nbconvert_exporter": "python",
   "pygments_lexer": "ipython3",
   "version": "3.9.7"
  }
 },
 "nbformat": 4,
 "nbformat_minor": 5
}