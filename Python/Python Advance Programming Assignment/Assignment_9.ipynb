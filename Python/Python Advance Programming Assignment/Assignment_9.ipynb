{
 "cells": [
  {
   "cell_type": "markdown",
   "id": "ff874907",
   "metadata": {},
   "source": "1. YouTube offers different playback speed options for users. This allows users to increase or decrease the speed of the video content. Given the actual duration and playback speed of the video, calculate the playback duration of the video."
  },
  {
   "cell_type": "markdown",
   "id": "7b122435",
   "metadata": {},
   "source": "Examples"
  },
  {
   "cell_type": "markdown",
   "id": "2ec10bc7",
   "metadata": {},
   "source": "playback_duration(\"00:30:00\", 2) \u279e \"00:15:00\""
  },
  {
   "cell_type": "markdown",
   "id": "70ee1b16",
   "metadata": {},
   "source": "playback_duration(\"01:20:00\", 1.5) \u279e \"00:53:20\""
  },
  {
   "cell_type": "markdown",
   "id": "1f4acb9f",
   "metadata": {},
   "source": "playback_duration(\"51:20:09\", 0.5) \u279e \"102:40:18\""
  },
  {
   "cell_type": "markdown",
   "id": "a76b5a74",
   "metadata": {},
   "source": "2. We needs your help to construct a building which will be a pile of n cubes. The cube at the bottom will have a volume of n^3, the cube above will have volume of (n-1)^3 and so on until the top which will have a volume of 1^3."
  },
  {
   "cell_type": "markdown",
   "id": "aa66db67",
   "metadata": {},
   "source": "Given the total volume m of the building, can you find the number of cubes n required for the building?"
  },
  {
   "cell_type": "markdown",
   "id": "02e070d6",
   "metadata": {},
   "source": "In other words, you have to return an integer n such that:"
  },
  {
   "cell_type": "markdown",
   "id": "df1c473a",
   "metadata": {},
   "source": "n^3 + (n-1)^3 + ... + 1^3 == m"
  },
  {
   "cell_type": "markdown",
   "id": "16aef39b",
   "metadata": {},
   "source": "Return None if there is no such number."
  },
  {
   "cell_type": "markdown",
   "id": "df228499",
   "metadata": {},
   "source": "Examples"
  },
  {
   "cell_type": "markdown",
   "id": "6f2f7d6f",
   "metadata": {},
   "source": "pile_of_cubes(1071225) \u279e 45"
  },
  {
   "cell_type": "markdown",
   "id": "eed59c2b",
   "metadata": {},
   "source": "pile_of_cubes(4183059834009) \u279e 2022"
  },
  {
   "cell_type": "markdown",
   "id": "38e01c13",
   "metadata": {},
   "source": "pile_of_cubes(16) \u279e None"
  },
  {
   "cell_type": "markdown",
   "id": "3c9c81fa",
   "metadata": {},
   "source": "3. A fulcrum of a list is an integer such that all elements to the left of it and all elements to the right of it sum to the same value. Write a function that finds the fulcrum of a list."
  },
  {
   "cell_type": "markdown",
   "id": "70aed12b",
   "metadata": {},
   "source": "To illustrate:"
  },
  {
   "cell_type": "markdown",
   "id": "d44f417f",
   "metadata": {},
   "source": "find_fulcrum([3, 1, 5, 2, 4, 6, -1]) \u279e 2"
  },
  {
   "cell_type": "markdown",
   "id": "ae7c9cc5",
   "metadata": {},
   "source": "// Since [3, 1, 5] and [4, 6, -1] both sum to 9"
  },
  {
   "cell_type": "markdown",
   "id": "e03d544f",
   "metadata": {},
   "source": "Examples"
  },
  {
   "cell_type": "markdown",
   "id": "4dac33cb",
   "metadata": {},
   "source": "find_fulcrum([1, 2, 4, 9, 10, -10, -9, 3]) \u279e 4"
  },
  {
   "cell_type": "markdown",
   "id": "58b0e892",
   "metadata": {},
   "source": "find_fulcrum([9, 1, 9]) \u279e 1"
  },
  {
   "cell_type": "markdown",
   "id": "65b25ea1",
   "metadata": {},
   "source": "find_fulcrum([7, -1, 0, -1, 1, 1, 2, 3]) \u279e 0"
  },
  {
   "cell_type": "markdown",
   "id": "c8ddbf3d",
   "metadata": {},
   "source": "find_fulcrum([8, 8, 8, 8]) \u279e -1"
  },
  {
   "cell_type": "markdown",
   "id": "38127c4d",
   "metadata": {},
   "source": "4. Given a list of integers representing the color of each sock, determine how many pairs of socks with matching colors there are. For example, there are 7 socks with colors [1, 2, 1, 2, 1, 3, 2]. There is one pair of color 1 and one of color 2. There are three odd socks left, one of each color. The number of pairs is 2."
  },
  {
   "cell_type": "markdown",
   "id": "bdaf526e",
   "metadata": {},
   "source": "Create a function that returns an integer representing the number of matching pairs of socks that are available."
  },
  {
   "cell_type": "markdown",
   "id": "2176414d",
   "metadata": {},
   "source": "Examples"
  },
  {
   "cell_type": "markdown",
   "id": "f4626ed9",
   "metadata": {},
   "source": "sock_merchant([10, 20, 20, 10, 10, 30, 50, 10, 20]) \u279e 3"
  },
  {
   "cell_type": "markdown",
   "id": "8d7c9c46",
   "metadata": {},
   "source": "sock_merchant([50, 20, 30, 90, 30, 20, 50, 20, 90]) \u279e 4"
  },
  {
   "cell_type": "markdown",
   "id": "b26244e8",
   "metadata": {},
   "source": "sock_merchant([]) \u279e 0"
  },
  {
   "cell_type": "markdown",
   "id": "d966d2ea",
   "metadata": {},
   "source": "5. Create a function that takes a string containing integers as well as other characters and return the sum of the negative integers only."
  },
  {
   "cell_type": "markdown",
   "id": "921d745d",
   "metadata": {},
   "source": "Examples"
  },
  {
   "cell_type": "markdown",
   "id": "82ae2466",
   "metadata": {},
   "source": "negative_sum(\"-12 13%14&-11\") \u279e -23"
  }
 ],
 "metadata": {
  "kernelspec": {
   "display_name": "Python 3 (ipykernel)",
   "language": "python",
   "name": "python3"
  },
  "language_info": {
   "codemirror_mode": {
    "name": "ipython",
    "version": 3
   },
   "file_extension": ".py",
   "mimetype": "text/x-python",
   "name": "python",
   "nbconvert_exporter": "python",
   "pygments_lexer": "ipython3",
   "version": "3.9.7"
  }
 },
 "nbformat": 4,
 "nbformat_minor": 5
}