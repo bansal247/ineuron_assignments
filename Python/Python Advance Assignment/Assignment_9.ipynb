{
 "cells": [
  {
   "cell_type": "markdown",
   "id": "ff874907",
   "metadata": {},
   "source": "Q1. In Python 3.X, what are the names and functions of string object types?"
  },
  {
   "cell_type": "markdown",
   "id": "7b122435",
   "metadata": {},
   "source": "Q2. How do the string forms in Python 3.X vary in terms of operations?"
  },
  {
   "cell_type": "markdown",
   "id": "2ec10bc7",
   "metadata": {},
   "source": "Q3. In 3.X, how do you put non-ASCII Unicode characters in a string?"
  },
  {
   "cell_type": "markdown",
   "id": "70ee1b16",
   "metadata": {},
   "source": "Q4. In Python 3.X, what are the key differences between text-mode and binary-mode files?"
  },
  {
   "cell_type": "markdown",
   "id": "1f4acb9f",
   "metadata": {},
   "source": "Q5. How can you interpret a Unicode text file containing text encoded in a different encoding than your platform's default?"
  },
  {
   "cell_type": "markdown",
   "id": "a76b5a74",
   "metadata": {},
   "source": "Q6. What is the best way to make a Unicode text file in a particular encoding format?"
  },
  {
   "cell_type": "markdown",
   "id": "aa66db67",
   "metadata": {},
   "source": "Q7. What qualifies ASCII text as a form of Unicode text?"
  },
  {
   "cell_type": "markdown",
   "id": "02e070d6",
   "metadata": {},
   "source": "Q8. How much of an effect does the change in string types in Python 3.X have on your code?"
  },
  {
   "cell_type": "markdown",
   "id": "df1c473a",
   "metadata": {},
   "source": []
  },
  {
   "cell_type": "markdown",
   "id": "16aef39b",
   "metadata": {},
   "source": []
  },
  {
   "cell_type": "markdown",
   "id": "df228499",
   "metadata": {},
   "source": []
  },
  {
   "cell_type": "markdown",
   "id": "6f2f7d6f",
   "metadata": {},
   "source": []
  },
  {
   "cell_type": "markdown",
   "id": "eed59c2b",
   "metadata": {},
   "source": []
  },
  {
   "cell_type": "markdown",
   "id": "38e01c13",
   "metadata": {},
   "source": []
  },
  {
   "cell_type": "markdown",
   "id": "3c9c81fa",
   "metadata": {},
   "source": []
  },
  {
   "cell_type": "markdown",
   "id": "70aed12b",
   "metadata": {},
   "source": []
  },
  {
   "cell_type": "markdown",
   "id": "d44f417f",
   "metadata": {},
   "source": []
  },
  {
   "cell_type": "markdown",
   "id": "ae7c9cc5",
   "metadata": {},
   "source": []
  },
  {
   "cell_type": "markdown",
   "id": "e03d544f",
   "metadata": {},
   "source": []
  },
  {
   "cell_type": "markdown",
   "id": "4dac33cb",
   "metadata": {},
   "source": []
  },
  {
   "cell_type": "markdown",
   "id": "58b0e892",
   "metadata": {},
   "source": []
  },
  {
   "cell_type": "markdown",
   "id": "65b25ea1",
   "metadata": {},
   "source": []
  },
  {
   "cell_type": "markdown",
   "id": "c8ddbf3d",
   "metadata": {},
   "source": []
  },
  {
   "cell_type": "markdown",
   "id": "38127c4d",
   "metadata": {},
   "source": []
  },
  {
   "cell_type": "markdown",
   "id": "bdaf526e",
   "metadata": {},
   "source": []
  },
  {
   "cell_type": "markdown",
   "id": "2176414d",
   "metadata": {},
   "source": []
  },
  {
   "cell_type": "markdown",
   "id": "f4626ed9",
   "metadata": {},
   "source": []
  },
  {
   "cell_type": "markdown",
   "id": "8d7c9c46",
   "metadata": {},
   "source": []
  },
  {
   "cell_type": "markdown",
   "id": "b26244e8",
   "metadata": {},
   "source": []
  },
  {
   "cell_type": "markdown",
   "id": "d966d2ea",
   "metadata": {},
   "source": []
  },
  {
   "cell_type": "markdown",
   "id": "921d745d",
   "metadata": {},
   "source": []
  },
  {
   "cell_type": "markdown",
   "id": "82ae2466",
   "metadata": {},
   "source": []
  }
 ],
 "metadata": {
  "kernelspec": {
   "display_name": "Python 3 (ipykernel)",
   "language": "python",
   "name": "python3"
  },
  "language_info": {
   "codemirror_mode": {
    "name": "ipython",
    "version": 3
   },
   "file_extension": ".py",
   "mimetype": "text/x-python",
   "name": "python",
   "nbconvert_exporter": "python",
   "pygments_lexer": "ipython3",
   "version": "3.9.7"
  }
 },
 "nbformat": 4,
 "nbformat_minor": 5
}